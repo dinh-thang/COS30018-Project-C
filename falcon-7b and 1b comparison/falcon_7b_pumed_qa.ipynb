{
  "nbformat": 4,
  "nbformat_minor": 0,
  "metadata": {
    "colab": {
      "provenance": [],
      "authorship_tag": "ABX9TyOw7If7vY+ldcmLeaXAufaE",
      "include_colab_link": true
    },
    "kernelspec": {
      "name": "python3",
      "display_name": "Python 3"
    },
    "language_info": {
      "name": "python"
    }
  },
  "cells": [
    {
      "cell_type": "markdown",
      "metadata": {
        "id": "view-in-github",
        "colab_type": "text"
      },
      "source": [
        "<a href=\"https://colab.research.google.com/github/dinh-thang/COS30018-Project-C/blob/main/falcon-7b%20and%201b%20comparison/falcon_7b_pumed_qa.ipynb\" target=\"_parent\"><img src=\"https://colab.research.google.com/assets/colab-badge.svg\" alt=\"Open In Colab\"/></a>"
      ]
    },
    {
      "cell_type": "markdown",
      "source": [
        "This notebook finetune Falcon-7b-sharded-bf16 on the pubmed_qa dataset https://huggingface.co/datasets/pubmed_qa in order to record its performance and result.\n",
        "\n",
        "This will then be used to compare with the perfomance and result of the Falcon-rw-1b model with the same dataset.\n",
        "\n"
      ],
      "metadata": {
        "id": "5JmNyKDII7Bw"
      }
    },
    {
      "cell_type": "code",
      "execution_count": null,
      "metadata": {
        "id": "_Z3OVY5-Isf8"
      },
      "outputs": [],
      "source": []
    }
  ]
}
