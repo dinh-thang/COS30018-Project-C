{
  "nbformat": 4,
  "nbformat_minor": 0,
  "metadata": {
    "colab": {
      "provenance": [],
      "authorship_tag": "ABX9TyN7Q2syQHe6NIznZtn3gjA/",
      "include_colab_link": true
    },
    "kernelspec": {
      "name": "python3",
      "display_name": "Python 3"
    },
    "language_info": {
      "name": "python"
    }
  },
  "cells": [
    {
      "cell_type": "markdown",
      "metadata": {
        "id": "view-in-github",
        "colab_type": "text"
      },
      "source": [
        "<a href=\"https://colab.research.google.com/github/dinh-thang/COS30018-Project-C/blob/main/falcon-7b%20and%201b%20comparison/falcon_1b_pubmed_qa.ipynb\" target=\"_parent\"><img src=\"https://colab.research.google.com/assets/colab-badge.svg\" alt=\"Open In Colab\"/></a>"
      ]
    },
    {
      "cell_type": "markdown",
      "source": [
        "This notebook finetune Falcon-rw-1b on the pubmed_qa dataset https://huggingface.co/datasets/pubmed_qa in order to record its performance and result.\n",
        "\n",
        "This will then be used to compare with the perfomance and result of the Falcon-7b-sharded-bf16 model with the same dataset."
      ],
      "metadata": {
        "id": "XiptoauWK-Vw"
      }
    },
    {
      "cell_type": "code",
      "execution_count": null,
      "metadata": {
        "id": "3Y7qf69IK9sL"
      },
      "outputs": [],
      "source": []
    }
  ]
}