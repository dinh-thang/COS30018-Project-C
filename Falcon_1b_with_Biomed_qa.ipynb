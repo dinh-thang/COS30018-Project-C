{
  "nbformat": 4,
  "nbformat_minor": 0,
  "metadata": {
    "colab": {
      "provenance": [],
      "gpuType": "T4",
      "authorship_tag": "ABX9TyOD0OJzDo+6Z8IY+9uqoZVw",
      "include_colab_link": true
    },
    "kernelspec": {
      "name": "python3",
      "display_name": "Python 3"
    },
    "language_info": {
      "name": "python"
    },
    "accelerator": "GPU"
  },
  "cells": [
    {
      "cell_type": "markdown",
      "metadata": {
        "id": "view-in-github",
        "colab_type": "text"
      },
      "source": [
        "<a href=\"https://colab.research.google.com/github/dinh-thang/COS30018-Project-C/blob/main/Falcon_1b_with_Biomed_qa.ipynb\" target=\"_parent\"><img src=\"https://colab.research.google.com/assets/colab-badge.svg\" alt=\"Open In Colab\"/></a>"
      ]
    },
    {
      "cell_type": "code",
      "execution_count": null,
      "metadata": {
        "id": "ulQOrFJtttqY"
      },
      "outputs": [],
      "source": [
        "!pip install -q transformers einops\n",
        "!pip install git+https://github.com/huggingface/accelerate\n",
        "!pip install transformers[torch]\n",
        "!pip install git+https://github.com/huggingface/peft.git\n",
        "!pip install datasets bitsandbytes wandb trl\n",
        "!pip install --upgrade transformers"
      ]
    },
    {
      "cell_type": "code",
      "source": [
        "from datasets import load_dataset\n",
        "\n",
        "dataset_name = \"Shushant/BiomedicalQuestionAnsweringDataset\"\n",
        "dataset = load_dataset(dataset_name, \"train\")\n",
        "dataset = dataset[\"train\"].train_test_split(test_size=3000, train_size=21000)"
      ],
      "metadata": {
        "id": "ET1Dprijt3U3"
      },
      "execution_count": null,
      "outputs": []
    },
    {
      "cell_type": "code",
      "source": [
        "import ast\n",
        "import torch\n",
        "from transformers import AutoTokenizer, AutoModelWithLMHead\n",
        "\n",
        "def merge_answer(record):\n",
        "  # convert string answer to dictionary\n",
        "  answer = ast.literal_eval(record[\"answers\"])[\"text\"]\n",
        "  record[\"answers\"] = answer\n",
        "  return record\n",
        "\n",
        "# load T5 tokenizer\n",
        "tokenizer = AutoTokenizer.from_pretrained(\"t5-small\")\n",
        "# the context summarization will be using T5 as explored previously\n",
        "summarizer = AutoModelWithLMHead.from_pretrained('t5-small', return_dict=True)\n",
        "\n",
        "def summarize_large_context(record):\n",
        "  # the max_seq_len is 512, longer than that it will be automatically cut off\n",
        "  if len(torch.split(record[\"context\"], \" \")) > 512:\n",
        "    input_seq = tokenizer.encode(\"sumarize: \" + record[\"context\"], return_tensors=\"pt\", max_length=512, truncation=True)\n",
        "    summarized_seq = model.generate(input_seq, min_length = 100, max_length = 512)\n",
        "    record[\"context\"] = tokenizer.decode(summarized_seq[0])\n",
        "  return record\n",
        "\n",
        "def generate_text_field(record):\n",
        "  record['text'] = \"### Context: \" + record['context'] + \"### Question: \" + record['question'] + \"### Answer: \" + record['answers']\n",
        "  return record\n",
        "\n",
        "training_dataset = dataset[\"train\"]\n",
        "\n",
        "training_dataset.add_column(name=\"text\", column=[\"temp\"]*len(training_dataset))\n",
        "\n",
        "training_dataset = training_dataset.map(merge_answer)\n",
        "training_dataset = training_dataset.map(summarize_large_context)\n",
        "training_dataset = training_dataset.map(generate_text_field, remove_columns=training_dataset.column_names)\n"
      ],
      "metadata": {
        "id": "eGBy_IQKugmz"
      },
      "execution_count": null,
      "outputs": []
    },
    {
      "cell_type": "code",
      "source": [
        "training_dataset[\"text\"]"
      ],
      "metadata": {
        "id": "YZgjQUowNVHU"
      },
      "execution_count": null,
      "outputs": []
    },
    {
      "cell_type": "code",
      "source": [
        "import torch\n",
        "import transformers\n",
        "from transformers import AutoModelForCausalLM, BitsAndBytesConfig\n",
        "\n",
        "model_name = \"tiiuae/falcon-rw-1b\"\n",
        "\n",
        "bnb_config = BitsAndBytesConfig(\n",
        "    load_in_4bit=True,\n",
        "    bnb_4bit_quant_type=\"nf4\",\n",
        "    bnb_4bit_compute_dtype=torch.bfloat16,\n",
        ")\n",
        "\n",
        "model = AutoModelForCausalLM.from_pretrained(\n",
        "    model_name,\n",
        "    quantization_config=bnb_config,\n",
        "    trust_remote_code=True\n",
        ")\n",
        "model.config.use_cache = False"
      ],
      "metadata": {
        "id": "vlSRQkO-uCF1"
      },
      "execution_count": null,
      "outputs": []
    },
    {
      "cell_type": "code",
      "source": [
        "from peft import LoraConfig\n",
        "\n",
        "lora_alpha = 32\n",
        "lora_dropout = 0.05\n",
        "lora_r = 16\n",
        "\n",
        "peft_config = LoraConfig(\n",
        "    lora_alpha=lora_alpha,\n",
        "    lora_dropout=lora_dropout,\n",
        "    r=lora_r,\n",
        "    bias=\"none\",\n",
        "    task_type=\"CAUSAL_LM\",\n",
        "    target_modules=[\n",
        "        \"query_key_value\",\n",
        "        \"dense\",\n",
        "        \"dense_h_to_4h\",\n",
        "        \"dense_4h_to_h\",\n",
        "    ]\n",
        ")\n"
      ],
      "metadata": {
        "id": "2XCc7pkBwMuX"
      },
      "execution_count": 5,
      "outputs": []
    },
    {
      "cell_type": "code",
      "source": [
        "from transformers import TrainingArguments\n",
        "\n",
        "output_dir = \"./results\"\n",
        "per_device_train_batch_size = 5\n",
        "gradient_accumulation_steps = 4\n",
        "optim = \"paged_adamw_32bit\"\n",
        "save_steps = 10\n",
        "logging_steps = 10\n",
        "learning_rate = 2e-4\n",
        "max_grad_norm = 0.3\n",
        "max_steps = 500\n",
        "warmup_ratio = 0.03\n",
        "lr_scheduler_type = \"constant\"\n",
        "\n",
        "training_arguments = TrainingArguments(\n",
        "    output_dir=output_dir,\n",
        "    per_device_train_batch_size=per_device_train_batch_size,\n",
        "    gradient_accumulation_steps=gradient_accumulation_steps,\n",
        "    optim=optim,\n",
        "    save_steps=save_steps,\n",
        "    logging_steps=logging_steps,\n",
        "    learning_rate=learning_rate,\n",
        "    fp16=True,\n",
        "    max_grad_norm=max_grad_norm,\n",
        "    max_steps=max_steps,\n",
        "    warmup_ratio=warmup_ratio,\n",
        "    group_by_length=True,\n",
        "    lr_scheduler_type=lr_scheduler_type,\n",
        "    report_to=None\n",
        ")\n"
      ],
      "metadata": {
        "id": "yc4L3O5pwPLb"
      },
      "execution_count": 20,
      "outputs": []
    },
    {
      "cell_type": "code",
      "source": [
        "from trl import SFTTrainer\n",
        "\n",
        "max_seq_length = 512\n",
        "\n",
        "trainer = SFTTrainer(\n",
        "    model=model,\n",
        "    train_dataset=training_dataset,\n",
        "    peft_config=peft_config,\n",
        "    dataset_text_field=\"text\",\n",
        "    max_seq_length=max_seq_length,\n",
        "    tokenizer=tokenizer,\n",
        "    args=training_arguments,\n",
        ")\n"
      ],
      "metadata": {
        "id": "xwbUUCblbKD8"
      },
      "execution_count": null,
      "outputs": []
    },
    {
      "cell_type": "code",
      "source": [
        "for name, module in trainer.model.named_modules():\n",
        "    if \"norm\" in name:\n",
        "        module = module.to(torch.float32)"
      ],
      "metadata": {
        "id": "H24PopwxbEis"
      },
      "execution_count": 22,
      "outputs": []
    },
    {
      "cell_type": "code",
      "source": [
        "trainer.train()\n"
      ],
      "metadata": {
        "id": "L1cwcKm0bgln"
      },
      "execution_count": null,
      "outputs": []
    }
  ]
}